{
 "cells": [
  {
   "cell_type": "code",
   "execution_count": 367,
   "metadata": {},
   "outputs": [],
   "source": [
    "# imports of external packages to use in our code\n",
    "import sys\n",
    "import numpy as np\n",
    "import matplotlib.pyplot as plt\n",
    "from scipy import stats\n",
    "from matplotlib import colors\n",
    "from Random import RandomDist\n",
    "\n",
    "# default seed\n",
    "seed = 5555\n",
    "\n",
    "# class instance of our Random class using seed\n",
    "random = RandomDist(seed)\n",
    "\n",
    "# defalut number of samples per measurement \n",
    "Nsamples = 100  \n",
    "\n",
    "# default number of measurements per experiment\n",
    "Nmeas = 100  \n",
    "\n",
    "# default number of experiments\n",
    "Nexp = 1000\n",
    "\n",
    "# alpha value\n",
    "a = np.linspace(0, 1, Nexp)\n",
    "\n",
    "# fixed beta\n",
    "b = 2.0   \n",
    "\n",
    "# fixed Mass fraction in the calculation of Delta_cr\n",
    "M = 10 \n",
    "\n",
    "# output file defaults (fixed)\n",
    "doOutputFile = True # False #\n",
    "\n"
   ]
  },
  {
   "cell_type": "code",
   "execution_count": 368,
   "metadata": {},
   "outputs": [],
   "source": [
    "# Calculate Delta critical value and get probability\n",
    "def Delta_cr_prob(a, b, Nsamples):\n",
    "    ''' Hill parameter calculation with two or more orbiting planets orbit our sun.\n",
    "        Seperate Hill calculation into two portions - A as semi-major axis fraction sampled from beta distribution\n",
    "        Mass fraction is a fixed unitless value in our simution. \n",
    "        returns Delta_cr (fraction of the orbital separation and planets’ mutual Hill radius RH)\n",
    "        (e..g. Chambers et al. 1996): > 2*sqr(3) => stable\n",
    "    '''\n",
    "    delta_cr = []\n",
    "    prob = []\n",
    "    for a in a:\n",
    "        # for given alpha sample A from beta distribution \n",
    "        A = random.Beta(a,b, Nsamples)    \n",
    "        # calculate delta_cr: Samples of delta_cr calculated from A\n",
    "        dcr = 2*A*M\n",
    "    \n",
    "        count = 0\n",
    "        i = 0\n",
    "        while i in range(Nsamples):\n",
    "            cr = 2*np.sqrt(3)\n",
    "            if dcr[i] > cr:\n",
    "                count = count +1\n",
    "            i = i+1\n",
    "            \n",
    "        # return probability of being stable given delta_cr in each samples per experiment \n",
    "        prob_sample = count/ Nsamples\n",
    "        prob.append(prob_sample)\n",
    "    \n",
    "    return prob\n",
    "\n",
    "OutputFileName = 'out_t.txt'\n",
    "\n",
    "# simulate data from Bernoulli distribution for each experiment\n",
    "\n",
    "# return probability of each experiment \n",
    "probs = Delta_cr_prob(a,b, Nsamples)\n",
    "#print(probs)\n",
    "\n",
    "if doOutputFile:\n",
    "    outfile = open(OutputFileName, 'w')    \n",
    "    #print(probs)\n",
    "    for p in probs:\n",
    "        for m in range(0, Nmeas):\n",
    "            outfile.write(str(random.Bernoulli(p)) + \" \")\n",
    "        outfile.write(\" \\n\")\n",
    "        \n",
    "    outfile.close()\n",
    "    \n",
    "else:\n",
    "    for p in probs:\n",
    "        for m in range(0, Nmeas):\n",
    "            print(random.Bernoulli(p) , end=' ')\n",
    "        print(\" \\n\")\n",
    "    print(\"  \")\n"
   ]
  },
  {
   "cell_type": "markdown",
   "metadata": {},
   "source": [
    "#### extract Pstable for each simulated experiment\n",
    "#### Plot histogram of Pstable vs range of alpha"
   ]
  },
  {
   "cell_type": "code",
   "execution_count": 369,
   "metadata": {},
   "outputs": [
    {
     "data": {
      "image/png": "[encoded data removed]",
      "text/plain": [
       "<Figure size 864x576 with 2 Axes>"
      ]
     },
     "metadata": {
      "needs_background": "light"
     },
     "output_type": "display_data"
    }
   ],
   "source": [
    "# 2d histogram of Pstable and different range of alpha\n",
    "# create a 2d histogram where each bin of the histogram is coloured based on the percentage of successes in that bin\n",
    "#(i.e. # of successes in bin divided by total points in bin)\n",
    "a = np.linspace(0, 1, Nexp)\n",
    "#print(a)\n",
    "#print(probs)\n",
    "plt.figure(figsize=(12,8))\n",
    "counts = plt.hist2d(a, probs,bins =[30,30])\n",
    "h = counts[0]/np.sum(counts[0])\n",
    "\n",
    "im = plt.imshow(h)\n",
    "cbar = plt.colorbar(im)\n",
    "cbar.set_label('Probability', fontsize = 15)\n",
    "plt.ylabel('$P_{stable}$', fontsize = 15)\n",
    "plt.xlabel('$\\\\alpha$ ',fontsize = 15)\n",
    "plt.show()\n"
   ]
  },
  {
   "cell_type": "markdown",
   "metadata": {},
   "source": [
    "### Analysis of simulated data \n",
    "\n",
    "In this simulation, each experiment will contain Nmea independent bernoulli trails, each have probability of success (stable) as $p_{stable}$; The likelihood for $p_{stable}$ based on X is defined as the joint probability distribution of \n",
    "\n",
    "$L(p;x)\\approx f(x;p)=\\prod\\limits_{i=1}^n f(x_i;p)=\\prod\\limits_{i=1}^n p^x(1-p)^{1-x}$\n",
    "\n",
    "Differentiating the $\\log L(p ; x)$\n",
    "\n",
    "$LL(p;x) = \\prod\\limits_{i=1}^n \\log p^{x_{i}}(1-p)^{1-x_{i}}\n",
    "         = \\prod\\limits_{i=1}^n x_{i} (\\log p) + (1-x_{i})\\log(1-p)\n",
    "         = Y\\log p +(n-Y)\\log(1-p)$ where $Y = \\sum\\limits_{i=1}^n x_i $\n",
    "\n",
    "To find the value which maximizes a function that is to find the first derivative of the function and set it equal to 0. \n",
    "\n",
    "\n",
    "However, in our simulation, $P_{stable}$ for each trail is calculated numerically from samples from beta distribution of different value of $\\alpha$, thus we would want to relate $\\alpha$ numerically to $P(P_{stable};\\alpha)$ which can be observed from histogram of $P_{stable}$\n",
    "\n",
    "##### Define likelihood function!\n",
    "$L(p;x)\\approx f(x;p)=\\prod\\limits_{i=1}^n f(x_i;p)=\\prod\\limits_{i=1}^n p^x(1-p)^{1-x}  * P(P_{stable}|\\alpha ) $\n",
    "\n",
    "Differentiating the $\\log L(p ; x)$\n",
    "\n",
    "$LL(p;x) = \\prod\\limits_{i=1}^n \\log p^{x_{i}}(1-p)^{1-x_{i}} * P(P_{stable}|\\alpha )\n",
    "         = \\prod\\limits_{i=1}^n x_{i} (\\log p) + (1-x_{i})\\log(1-p) + \\log(P(P_{stable}|\\alpha ))\n",
    "         = Y\\log p +(n-Y)\\log(1-p) + \\log(P(P_{stable}|\\alpha))$ \n",
    "         \n",
    " where $Y = \\sum\\limits_{i=1}^n x_i $\n",
    "         \n",
    "         \n",
    "##### Setting the derivative to zero shows that this function achieves a maximum at $\\hat{p}=\\sum\\limits_{i=1}^n x_i/n$. Since $\\sum\\limits_{i=1}^n x_i$ is the total number of successes observed in the n trials,  is the observed proportion of successes in the n trials."
   ]
  },
  {
   "cell_type": "code",
   "execution_count": 370,
   "metadata": {},
   "outputs": [],
   "source": [
    "# Load the Pstable outputfile as Input  \n",
    "data_stb = np.loadtxt('out_t.txt')"
   ]
  },
  {
   "cell_type": "code",
   "execution_count": null,
   "metadata": {},
   "outputs": [],
   "source": []
  }
 ],
 "metadata": {
  "kernelspec": {
   "display_name": "py_38_env",
   "language": "python",
   "name": "py_38_env"
  },
  "language_info": {
   "codemirror_mode": {
    "name": "ipython",
    "version": 3
   },
   "file_extension": ".py",
   "mimetype": "text/x-python",
   "name": "python",
   "nbconvert_exporter": "python",
   "pygments_lexer": "ipython3",
   "version": "3.8.6"
  }
 },
 "nbformat": 4,
 "nbformat_minor": 2
}
